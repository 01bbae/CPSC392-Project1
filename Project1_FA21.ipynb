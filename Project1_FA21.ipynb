{
 "cells": [
  {
   "cell_type": "markdown",
   "metadata": {},
   "source": [
    "# Project 1\n",
    "\n",
    "[This dataset](https://raw.githubusercontent.com/cmparlettpelleriti/CPSC392ParlettPelleriti/master/Data/Proj1.csv) is adapted from the World Health Organization on Strokes (it's based on real data but is NOT REAL). Use this dataset to answer the following questions and perform the following tasks. Feel free to add extra cells as needed, but follow the structure listed here and clearly identify where each question is answered. Please remove any superflous code.\n",
    "\n",
    "## Data Information\n",
    "\n",
    "- `reg_to_vote`: 0 if no, 1 if yes.\n",
    "- `age`: age of the patient in years.\n",
    "- `hypertension`: 0 if the patient doesn't have hypertension, 1 if the patient has hypertension.\n",
    "- `heart_disease`: 0 if the patient doesn't have any heart diseases, 1 if the patient has a heart disease.\n",
    "- `ever_married`: 0 if no, 1 if yes.\n",
    "- `Residence_type`: 0 for Rural, 1 for Urban.\n",
    "- `avg_glucose_level`: average glucose level in blood.\n",
    "- `bmi`: body mass index.\n",
    "- `smoking_status_smokes`, `smoking_status_formerly`: Whether or not the person smokes, or formerly smoked. If a person has 0's for both these columns, they never smoked.\n",
    "- `stroke`: 1 if the patient had a stroke or 0 if not.\n",
    "- `dog_owner`: 0 if no, 1 if yes.\n",
    "- `er_visits`: number of recorded Emergency Room visits in lifetime.\n",
    "- `raccoons_to_fight`: number of racoons the patient belives they could fight off at once.\n",
    "- `fast_food_budget_month`: amount (in US dollars) spent on fast food per month.\n",
    "\n",
    "\n",
    "## Part I: Logistic Regression\n",
    "Build a logistic regression model to predict whether or not someone had a `stroke` based on **all** the other variables in the dataset.\n",
    "\n",
    "1. Count the missing data per column, and remove rows with missing data (if any).\n",
    "2. Use 10 fold cross validation for your model validation. Z-score your continuous variables only. Store both the train and test accuracies to check for overfitting. **Is the model overfit? How can you tell?**\n",
    "3. After completing steps 1-2, fit another logistic regression model on ALL of the data (no model validation; but do z score) using the same predictors as before, and put the coefficients into a dataframe called `coef`.\n",
    "4. print out a confusion matrix for the model you made in part 3. **What does this confusion matrix tell you about your model? How can you tell?**\n",
    "\n",
    "## Part II: Data Exploration\n",
    "The WHO has asked the following five questions, create **at least 1 ggplot graph per question** (using the above data + model when needed) to help answer each question, and **explicitly answer the question in a Markdown cell** below your graph. You may use other calculations to help support your answer but MUST pair it with a graph. Write your answer as if you were explaining it to a non-data scientist. You will be graded on the effectiveness and clarity of your graph, as well as the completeness, clarity, and correctness of your responses and justifications.\n",
    "\n",
    "1. In this specific data set, do dog-owners over 50 have a higher average probability of stoke than non-dog owners who currently smoke? How can you tell?\n",
    "2. What is the relationship between average blood glucose and BMI? Is the relationship between those two variables different for people who are and are not registered to vote? How can you tell?\n",
    "3. Is your logistic regression model most accurate for people who make less than 30k, between 30-90k, or over 100k? Discuss the potential accuracy *and* ethical implications if your model *were* more accurate for different groups (you can use the full model from part I-3 to check accuracy; DO NOT create/fit new models for each income range.).\n",
    "4. Which of the following variables is the strongest predictor of having a stroke (owning a dog, residence type, marriage, being registered to vote)? How were you able to tell?\n",
    "5. Create a variable `er_visits_per_year` that calculates the # of visits to the ER that a person has had per year of life. Store this variable in your data frame (no need to include this variable in the previous logistic regression model). Is the # of ER visits per year different for stroke and non-stroke patients? How can you tell?"
   ]
  },
  {
   "cell_type": "markdown",
   "metadata": {},
   "source": [
    "## PART I"
   ]
  },
  {
   "cell_type": "code",
   "execution_count": 3,
   "metadata": {},
   "outputs": [],
   "source": [
    "# PART I\n",
    "import numpy as np\n",
    "import pandas as pd\n",
    "from plotnine import *\n",
    "\n",
    "from sklearn.linear_model import LogisticRegression # Logistic Regression Model\n",
    "from sklearn.preprocessing import StandardScaler #Z-score variables\n",
    "from sklearn.metrics import accuracy_score, confusion_matrix, plot_confusion_matrix\n",
    "\n",
    "from sklearn.model_selection import train_test_split # simple TT split cv\n",
    "from sklearn.model_selection import KFold # k-fold cv\n",
    "from sklearn.model_selection import LeaveOneOut #LOO cv\n",
    "from sklearn.model_selection import cross_val_score # cross validation metrics\n",
    "from sklearn.model_selection import cross_val_predict # cross validation metrics"
   ]
  },
  {
   "cell_type": "code",
   "execution_count": 4,
   "metadata": {
    "scrolled": true
   },
   "outputs": [
    {
     "data": {
      "text/html": [
       "<div>\n",
       "<style scoped>\n",
       "    .dataframe tbody tr th:only-of-type {\n",
       "        vertical-align: middle;\n",
       "    }\n",
       "\n",
       "    .dataframe tbody tr th {\n",
       "        vertical-align: top;\n",
       "    }\n",
       "\n",
       "    .dataframe thead th {\n",
       "        text-align: right;\n",
       "    }\n",
       "</style>\n",
       "<table border=\"1\" class=\"dataframe\">\n",
       "  <thead>\n",
       "    <tr style=\"text-align: right;\">\n",
       "      <th></th>\n",
       "      <th>age</th>\n",
       "      <th>hypertension</th>\n",
       "      <th>heart_disease</th>\n",
       "      <th>ever_married</th>\n",
       "      <th>Residence_type</th>\n",
       "      <th>avg_glucose_level</th>\n",
       "      <th>bmi</th>\n",
       "      <th>stroke</th>\n",
       "      <th>smoking_status_smokes</th>\n",
       "      <th>smoking_status_formerly</th>\n",
       "      <th>reg_to_vote</th>\n",
       "      <th>dog_owner</th>\n",
       "      <th>raccoons_to_fight</th>\n",
       "      <th>fast_food_budget_month</th>\n",
       "      <th>income_in_k</th>\n",
       "      <th>er_visits</th>\n",
       "    </tr>\n",
       "  </thead>\n",
       "  <tbody>\n",
       "    <tr>\n",
       "      <th>0</th>\n",
       "      <td>60.0</td>\n",
       "      <td>1.0</td>\n",
       "      <td>0.0</td>\n",
       "      <td>0.0</td>\n",
       "      <td>1.0</td>\n",
       "      <td>73.00</td>\n",
       "      <td>25.2</td>\n",
       "      <td>0</td>\n",
       "      <td>1</td>\n",
       "      <td>0</td>\n",
       "      <td>1.0</td>\n",
       "      <td>1.0</td>\n",
       "      <td>10.0</td>\n",
       "      <td>209.19</td>\n",
       "      <td>51.553645</td>\n",
       "      <td>9.0</td>\n",
       "    </tr>\n",
       "    <tr>\n",
       "      <th>1</th>\n",
       "      <td>4.0</td>\n",
       "      <td>0.0</td>\n",
       "      <td>0.0</td>\n",
       "      <td>0.0</td>\n",
       "      <td>0.0</td>\n",
       "      <td>110.15</td>\n",
       "      <td>17.1</td>\n",
       "      <td>0</td>\n",
       "      <td>0</td>\n",
       "      <td>0</td>\n",
       "      <td>0.0</td>\n",
       "      <td>1.0</td>\n",
       "      <td>13.0</td>\n",
       "      <td>176.46</td>\n",
       "      <td>45.405414</td>\n",
       "      <td>5.0</td>\n",
       "    </tr>\n",
       "    <tr>\n",
       "      <th>2</th>\n",
       "      <td>77.0</td>\n",
       "      <td>0.0</td>\n",
       "      <td>0.0</td>\n",
       "      <td>1.0</td>\n",
       "      <td>1.0</td>\n",
       "      <td>68.38</td>\n",
       "      <td>27.8</td>\n",
       "      <td>0</td>\n",
       "      <td>0</td>\n",
       "      <td>0</td>\n",
       "      <td>0.0</td>\n",
       "      <td>1.0</td>\n",
       "      <td>6.0</td>\n",
       "      <td>213.00</td>\n",
       "      <td>94.865174</td>\n",
       "      <td>8.0</td>\n",
       "    </tr>\n",
       "    <tr>\n",
       "      <th>3</th>\n",
       "      <td>37.0</td>\n",
       "      <td>0.0</td>\n",
       "      <td>0.0</td>\n",
       "      <td>1.0</td>\n",
       "      <td>1.0</td>\n",
       "      <td>95.08</td>\n",
       "      <td>30.1</td>\n",
       "      <td>0</td>\n",
       "      <td>0</td>\n",
       "      <td>0</td>\n",
       "      <td>1.0</td>\n",
       "      <td>1.0</td>\n",
       "      <td>12.0</td>\n",
       "      <td>161.90</td>\n",
       "      <td>84.123775</td>\n",
       "      <td>8.0</td>\n",
       "    </tr>\n",
       "    <tr>\n",
       "      <th>4</th>\n",
       "      <td>44.0</td>\n",
       "      <td>0.0</td>\n",
       "      <td>0.0</td>\n",
       "      <td>0.0</td>\n",
       "      <td>0.0</td>\n",
       "      <td>103.78</td>\n",
       "      <td>40.9</td>\n",
       "      <td>0</td>\n",
       "      <td>1</td>\n",
       "      <td>0</td>\n",
       "      <td>1.0</td>\n",
       "      <td>1.0</td>\n",
       "      <td>11.0</td>\n",
       "      <td>261.29</td>\n",
       "      <td>74.794596</td>\n",
       "      <td>11.0</td>\n",
       "    </tr>\n",
       "  </tbody>\n",
       "</table>\n",
       "</div>"
      ],
      "text/plain": [
       "    age  hypertension  heart_disease  ever_married  Residence_type  \\\n",
       "0  60.0           1.0            0.0           0.0             1.0   \n",
       "1   4.0           0.0            0.0           0.0             0.0   \n",
       "2  77.0           0.0            0.0           1.0             1.0   \n",
       "3  37.0           0.0            0.0           1.0             1.0   \n",
       "4  44.0           0.0            0.0           0.0             0.0   \n",
       "\n",
       "   avg_glucose_level   bmi  stroke  smoking_status_smokes  \\\n",
       "0              73.00  25.2       0                      1   \n",
       "1             110.15  17.1       0                      0   \n",
       "2              68.38  27.8       0                      0   \n",
       "3              95.08  30.1       0                      0   \n",
       "4             103.78  40.9       0                      1   \n",
       "\n",
       "   smoking_status_formerly  reg_to_vote  dog_owner  raccoons_to_fight  \\\n",
       "0                        0          1.0        1.0               10.0   \n",
       "1                        0          0.0        1.0               13.0   \n",
       "2                        0          0.0        1.0                6.0   \n",
       "3                        0          1.0        1.0               12.0   \n",
       "4                        0          1.0        1.0               11.0   \n",
       "\n",
       "   fast_food_budget_month  income_in_k  er_visits  \n",
       "0                  209.19    51.553645        9.0  \n",
       "1                  176.46    45.405414        5.0  \n",
       "2                  213.00    94.865174        8.0  \n",
       "3                  161.90    84.123775        8.0  \n",
       "4                  261.29    74.794596       11.0  "
      ]
     },
     "execution_count": 4,
     "metadata": {},
     "output_type": "execute_result"
    }
   ],
   "source": [
    "data = pd.read_csv('https://raw.githubusercontent.com/cmparlettpelleriti/CPSC392ParlettPelleriti/master/Data/Proj1.csv')\n",
    "data.head()"
   ]
  },
  {
   "cell_type": "code",
   "execution_count": 5,
   "metadata": {},
   "outputs": [
    {
     "data": {
      "text/plain": [
       "age                         13\n",
       "hypertension                12\n",
       "heart_disease               21\n",
       "ever_married                 9\n",
       "Residence_type              21\n",
       "avg_glucose_level           31\n",
       "bmi                        575\n",
       "stroke                       0\n",
       "smoking_status_smokes        0\n",
       "smoking_status_formerly      0\n",
       "reg_to_vote                 14\n",
       "dog_owner                   21\n",
       "raccoons_to_fight           27\n",
       "fast_food_budget_month       8\n",
       "income_in_k                 21\n",
       "er_visits                   15\n",
       "dtype: int64"
      ]
     },
     "execution_count": 5,
     "metadata": {},
     "output_type": "execute_result"
    }
   ],
   "source": [
    "data.isna().sum()"
   ]
  },
  {
   "cell_type": "code",
   "execution_count": 6,
   "metadata": {},
   "outputs": [],
   "source": [
    "data = data.dropna()\n",
    "data = data.reset_index()"
   ]
  },
  {
   "cell_type": "code",
   "execution_count": 7,
   "metadata": {},
   "outputs": [
    {
     "data": {
      "text/html": [
       "<div>\n",
       "<style scoped>\n",
       "    .dataframe tbody tr th:only-of-type {\n",
       "        vertical-align: middle;\n",
       "    }\n",
       "\n",
       "    .dataframe tbody tr th {\n",
       "        vertical-align: top;\n",
       "    }\n",
       "\n",
       "    .dataframe thead th {\n",
       "        text-align: right;\n",
       "    }\n",
       "</style>\n",
       "<table border=\"1\" class=\"dataframe\">\n",
       "  <thead>\n",
       "    <tr style=\"text-align: right;\">\n",
       "      <th></th>\n",
       "      <th>index</th>\n",
       "      <th>age</th>\n",
       "      <th>hypertension</th>\n",
       "      <th>heart_disease</th>\n",
       "      <th>ever_married</th>\n",
       "      <th>Residence_type</th>\n",
       "      <th>avg_glucose_level</th>\n",
       "      <th>bmi</th>\n",
       "      <th>stroke</th>\n",
       "      <th>smoking_status_smokes</th>\n",
       "      <th>smoking_status_formerly</th>\n",
       "      <th>reg_to_vote</th>\n",
       "      <th>dog_owner</th>\n",
       "      <th>raccoons_to_fight</th>\n",
       "      <th>fast_food_budget_month</th>\n",
       "      <th>income_in_k</th>\n",
       "      <th>er_visits</th>\n",
       "    </tr>\n",
       "  </thead>\n",
       "  <tbody>\n",
       "    <tr>\n",
       "      <th>0</th>\n",
       "      <td>0</td>\n",
       "      <td>0.755732</td>\n",
       "      <td>1.0</td>\n",
       "      <td>0.0</td>\n",
       "      <td>0.0</td>\n",
       "      <td>1.0</td>\n",
       "      <td>-0.726799</td>\n",
       "      <td>-0.460635</td>\n",
       "      <td>0</td>\n",
       "      <td>1</td>\n",
       "      <td>0</td>\n",
       "      <td>1.0</td>\n",
       "      <td>1.0</td>\n",
       "      <td>0.012965</td>\n",
       "      <td>0.248335</td>\n",
       "      <td>51.553645</td>\n",
       "      <td>-0.021923</td>\n",
       "    </tr>\n",
       "    <tr>\n",
       "      <th>1</th>\n",
       "      <td>1</td>\n",
       "      <td>-1.706986</td>\n",
       "      <td>0.0</td>\n",
       "      <td>0.0</td>\n",
       "      <td>0.0</td>\n",
       "      <td>0.0</td>\n",
       "      <td>0.096425</td>\n",
       "      <td>-1.481171</td>\n",
       "      <td>0</td>\n",
       "      <td>0</td>\n",
       "      <td>0</td>\n",
       "      <td>0.0</td>\n",
       "      <td>1.0</td>\n",
       "      <td>0.756460</td>\n",
       "      <td>-0.548153</td>\n",
       "      <td>45.405414</td>\n",
       "      <td>-0.865736</td>\n",
       "    </tr>\n",
       "    <tr>\n",
       "      <th>2</th>\n",
       "      <td>2</td>\n",
       "      <td>1.503343</td>\n",
       "      <td>0.0</td>\n",
       "      <td>0.0</td>\n",
       "      <td>1.0</td>\n",
       "      <td>1.0</td>\n",
       "      <td>-0.829175</td>\n",
       "      <td>-0.133055</td>\n",
       "      <td>0</td>\n",
       "      <td>0</td>\n",
       "      <td>0</td>\n",
       "      <td>0.0</td>\n",
       "      <td>1.0</td>\n",
       "      <td>-0.978362</td>\n",
       "      <td>0.341052</td>\n",
       "      <td>94.865174</td>\n",
       "      <td>-0.232876</td>\n",
       "    </tr>\n",
       "    <tr>\n",
       "      <th>3</th>\n",
       "      <td>3</td>\n",
       "      <td>-0.255741</td>\n",
       "      <td>0.0</td>\n",
       "      <td>0.0</td>\n",
       "      <td>1.0</td>\n",
       "      <td>1.0</td>\n",
       "      <td>-0.237518</td>\n",
       "      <td>0.156726</td>\n",
       "      <td>0</td>\n",
       "      <td>0</td>\n",
       "      <td>0</td>\n",
       "      <td>1.0</td>\n",
       "      <td>1.0</td>\n",
       "      <td>0.508628</td>\n",
       "      <td>-0.902472</td>\n",
       "      <td>84.123775</td>\n",
       "      <td>-0.232876</td>\n",
       "    </tr>\n",
       "    <tr>\n",
       "      <th>4</th>\n",
       "      <td>4</td>\n",
       "      <td>0.052098</td>\n",
       "      <td>0.0</td>\n",
       "      <td>0.0</td>\n",
       "      <td>0.0</td>\n",
       "      <td>0.0</td>\n",
       "      <td>-0.044731</td>\n",
       "      <td>1.517441</td>\n",
       "      <td>0</td>\n",
       "      <td>1</td>\n",
       "      <td>0</td>\n",
       "      <td>1.0</td>\n",
       "      <td>1.0</td>\n",
       "      <td>0.260797</td>\n",
       "      <td>1.516195</td>\n",
       "      <td>74.794596</td>\n",
       "      <td>0.399983</td>\n",
       "    </tr>\n",
       "  </tbody>\n",
       "</table>\n",
       "</div>"
      ],
      "text/plain": [
       "   index       age  hypertension  heart_disease  ever_married  Residence_type  \\\n",
       "0      0  0.755732           1.0            0.0           0.0             1.0   \n",
       "1      1 -1.706986           0.0            0.0           0.0             0.0   \n",
       "2      2  1.503343           0.0            0.0           1.0             1.0   \n",
       "3      3 -0.255741           0.0            0.0           1.0             1.0   \n",
       "4      4  0.052098           0.0            0.0           0.0             0.0   \n",
       "\n",
       "   avg_glucose_level       bmi  stroke  smoking_status_smokes  \\\n",
       "0          -0.726799 -0.460635       0                      1   \n",
       "1           0.096425 -1.481171       0                      0   \n",
       "2          -0.829175 -0.133055       0                      0   \n",
       "3          -0.237518  0.156726       0                      0   \n",
       "4          -0.044731  1.517441       0                      1   \n",
       "\n",
       "   smoking_status_formerly  reg_to_vote  dog_owner  raccoons_to_fight  \\\n",
       "0                        0          1.0        1.0           0.012965   \n",
       "1                        0          0.0        1.0           0.756460   \n",
       "2                        0          0.0        1.0          -0.978362   \n",
       "3                        0          1.0        1.0           0.508628   \n",
       "4                        0          1.0        1.0           0.260797   \n",
       "\n",
       "   fast_food_budget_month  income_in_k  er_visits  \n",
       "0                0.248335    51.553645  -0.021923  \n",
       "1               -0.548153    45.405414  -0.865736  \n",
       "2                0.341052    94.865174  -0.232876  \n",
       "3               -0.902472    84.123775  -0.232876  \n",
       "4                1.516195    74.794596   0.399983  "
      ]
     },
     "execution_count": 7,
     "metadata": {},
     "output_type": "execute_result"
    }
   ],
   "source": [
    "contpred=['age','avg_glucose_level','bmi','er_visits','raccoons_to_fight','fast_food_budget_month']\n",
    "predictors=data.columns.drop('stroke')\n",
    "# print(predictors)\n",
    "X = data[contpred]\n",
    "zscore = StandardScaler()\n",
    "zX = zscore.fit_transform(X)\n",
    "data.loc[:,contpred]=zX\n",
    "data.head()"
   ]
  },
  {
   "cell_type": "code",
   "execution_count": 21,
   "metadata": {},
   "outputs": [],
   "source": [
    "Xtrain, Xtest, ytrain, ytest = train_test_split(data[predictors],data['stroke'], test_size=0.2)\n",
    "# Xtrain = Xtrain.reset_index()\n",
    "# ytrain = ytrain.reset_index()\n",
    "# Xtest = Xtest.reset_index()\n",
    "# ytest = ytest.reset_index()"
   ]
  },
  {
   "cell_type": "code",
   "execution_count": 24,
   "metadata": {},
   "outputs": [
    {
     "name": "stdout",
     "output_type": "stream",
     "text": [
      "[0.961335676625659, 0.9609841827768014, 0.958523725834798, 0.9609841827768014, 0.9599297012302285, 0.9588752196836555, 0.9581722319859403, 0.958523725834798, 0.9592267135325132, 0.9595782073813708]\n"
     ]
    }
   ],
   "source": [
    "#10fold\n",
    "\n",
    "kf=KFold(n_splits=10)\n",
    "\n",
    "X=Xtrain\n",
    "y=ytrain\n",
    "\n",
    "logit = LogisticRegression(solver='lbfgs',max_iter=1000)\n",
    "\n",
    "acc = []\n",
    "\n",
    "for train, test in kf.split(X):\n",
    "    X_train = X.iloc[train]\n",
    "    X_test = X.iloc[test]\n",
    "    y_train = y.iloc[train]\n",
    "    y_test = y.iloc[test]\n",
    "    model = logit.fit(X_train, y_train)\n",
    "    acc.append(accuracy_score(ytest,model.predict(Xtest)))\n",
    "    \n",
    "    \n",
    "    \n",
    "print(acc)"
   ]
  },
  {
   "cell_type": "markdown",
   "metadata": {},
   "source": [
    "The model is not overfit because it performs as well with the test data set as it does with the training dataset."
   ]
  },
  {
   "cell_type": "code",
   "execution_count": 25,
   "metadata": {},
   "outputs": [
    {
     "data": {
      "text/plain": [
       "LogisticRegression()"
      ]
     },
     "execution_count": 25,
     "metadata": {},
     "output_type": "execute_result"
    }
   ],
   "source": [
    "logit2 = LogisticRegression()\n",
    "model = logit2.fit(data[predictors],data['stroke'])\n",
    "model.predict()"
   ]
  },
  {
   "cell_type": "markdown",
   "metadata": {},
   "source": [
    "2. ANSWER HERE\n",
    "https://stackoverflow.com/questions/62658215/convergencewarning-lbfgs-failed-to-converge-status-1-stop-total-no-of-iter\n",
    "https://stackoverflow.com/questions/53720684/use-kfold-split-to-fit-model-return-not-in-index\n",
    "5. ANSWER HERE"
   ]
  },
  {
   "cell_type": "markdown",
   "metadata": {},
   "source": [
    "## PART II"
   ]
  },
  {
   "cell_type": "code",
   "execution_count": null,
   "metadata": {},
   "outputs": [],
   "source": [
    "# PART II, 1"
   ]
  },
  {
   "cell_type": "markdown",
   "metadata": {},
   "source": [
    "1. DISCUSSION + ANSWERE HERE"
   ]
  },
  {
   "cell_type": "code",
   "execution_count": null,
   "metadata": {},
   "outputs": [],
   "source": [
    "# PART II, 2"
   ]
  },
  {
   "cell_type": "markdown",
   "metadata": {},
   "source": [
    "2. DISCUSSION + ANSWERE HERE"
   ]
  },
  {
   "cell_type": "code",
   "execution_count": null,
   "metadata": {},
   "outputs": [],
   "source": [
    "# PART II, 3"
   ]
  },
  {
   "cell_type": "markdown",
   "metadata": {},
   "source": [
    "3. DISCUSSION + ANSWERE HERE"
   ]
  },
  {
   "cell_type": "code",
   "execution_count": null,
   "metadata": {},
   "outputs": [],
   "source": [
    "# PART II, 4"
   ]
  },
  {
   "cell_type": "markdown",
   "metadata": {},
   "source": [
    "4. DISCUSSION + ANSWERE HERE"
   ]
  },
  {
   "cell_type": "code",
   "execution_count": null,
   "metadata": {},
   "outputs": [],
   "source": [
    "# PART II, 5"
   ]
  },
  {
   "cell_type": "markdown",
   "metadata": {},
   "source": [
    "5. DISCUSSION + ANSWERE HERE"
   ]
  }
 ],
 "metadata": {
  "hide_input": false,
  "kernelspec": {
   "display_name": "Python 3 (ipykernel)",
   "language": "python",
   "name": "python3"
  },
  "language_info": {
   "codemirror_mode": {
    "name": "ipython",
    "version": 3
   },
   "file_extension": ".py",
   "mimetype": "text/x-python",
   "name": "python",
   "nbconvert_exporter": "python",
   "pygments_lexer": "ipython3",
   "version": "3.9.7"
  },
  "toc": {
   "base_numbering": 1,
   "nav_menu": {},
   "number_sections": true,
   "sideBar": true,
   "skip_h1_title": false,
   "title_cell": "Table of Contents",
   "title_sidebar": "Contents",
   "toc_cell": false,
   "toc_position": {},
   "toc_section_display": true,
   "toc_window_display": false
  }
 },
 "nbformat": 4,
 "nbformat_minor": 4
}
